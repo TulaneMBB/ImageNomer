{
 "cells": [
  {
   "cell_type": "code",
   "execution_count": 1,
   "id": "9b836270-706d-4fb5-87b7-257fb1452f18",
   "metadata": {},
   "outputs": [
    {
     "name": "stdout",
     "output_type": "stream",
     "text": [
      "84\n"
     ]
    }
   ],
   "source": [
    "import pickle \n",
    "\n",
    "ts = pickle.load(open('/home/anton/Documents/Tulane/Research/VicariousPunishmentDataset/tsdict.pkl', 'rb'))\n",
    "\n",
    "print(len(ts))"
   ]
  },
  {
   "cell_type": "code",
   "execution_count": 4,
   "id": "0aadd0aa-bf02-4aa5-b568-52cdb660ac90",
   "metadata": {},
   "outputs": [
    {
     "name": "stdout",
     "output_type": "stream",
     "text": [
      "Done\n"
     ]
    }
   ],
   "source": [
    "# Make fcs\n",
    "\n",
    "import numpy as np\n",
    "\n",
    "a,b = np.triu_indices(264,1)\n",
    "\n",
    "for key,val in ts.items():\n",
    "    fname = f'/home/anton/Documents/Tulane/Research/data-sav/VicariousPunishment/fc/{key}'\n",
    "    p = np.corrcoef(val)[a,b]\n",
    "    np.save(fname, p)\n",
    "\n",
    "print('Done')"
   ]
  },
  {
   "cell_type": "code",
   "execution_count": 10,
   "id": "3aa5d662-93fb-4024-a34d-317b95e8677a",
   "metadata": {},
   "outputs": [
    {
     "name": "stdout",
     "output_type": "stream",
     "text": [
      "Done\n"
     ]
    }
   ],
   "source": [
    "# Make demographics\n",
    "\n",
    "demo = dict(age=dict(), sex=dict(), group=dict())\n",
    "tsvfile = '/home/anton/Documents/Tulane/Research/VicariousPunishmentDataset/participants.tsv'\n",
    "\n",
    "with open(tsvfile, 'r') as f:\n",
    "    for line in f.readlines():\n",
    "        parts = line.strip().split()\n",
    "        if parts[0][:3] == 'sub':\n",
    "            demo['age'][parts[0]] = int(parts[1])\n",
    "            demo['sex'][parts[0]] = parts[2]\n",
    "            demo['group'][parts[0]] = parts[3]\n",
    "\n",
    "pickle.dump(demo, open('/home/anton/Documents/Tulane/Research/data-sav/VicariousPunishment/demographics.pkl', 'wb'))\n",
    "\n",
    "print('Done')"
   ]
  },
  {
   "cell_type": "code",
   "execution_count": null,
   "id": "6e4c3562-ed82-4663-b4b9-bbbf6f791c0b",
   "metadata": {},
   "outputs": [],
   "source": []
  }
 ],
 "metadata": {
  "kernelspec": {
   "display_name": "Python 3 (ipykernel)",
   "language": "python",
   "name": "python3"
  },
  "language_info": {
   "codemirror_mode": {
    "name": "ipython",
    "version": 3
   },
   "file_extension": ".py",
   "mimetype": "text/x-python",
   "name": "python",
   "nbconvert_exporter": "python",
   "pygments_lexer": "ipython3",
   "version": "3.11.5"
  }
 },
 "nbformat": 4,
 "nbformat_minor": 5
}
