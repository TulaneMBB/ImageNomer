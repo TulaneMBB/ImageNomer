{
 "cells": [
  {
   "cell_type": "code",
   "execution_count": 5,
   "id": "036a8524",
   "metadata": {},
   "outputs": [
    {
     "name": "stdout",
     "output_type": "stream",
     "text": [
      "66 66\n",
      "65 65\n"
     ]
    }
   ],
   "source": [
    "# Create PCA components for Fibromyalgia dataset\n",
    "# To showcase ImageNomer decomp capability\n",
    "\n",
    "import pickle\n",
    "import numpy as np\n",
    "\n",
    "folder = '../data/anton/cohorts/Fibromyalgia'\n",
    "demo = pickle.load(open(f'{folder}/demographics.pkl', 'rb'))\n",
    "\n",
    "fc = dict(rest=[], epr=[])\n",
    "subs = dict(rest=[], epr=[])\n",
    "\n",
    "for sub in demo['Age']:\n",
    "    for task in ['rest', 'epr']:\n",
    "        try:\n",
    "            p = np.load(f'{folder}/fc/{sub}_task-{task}_fc.npy')\n",
    "            fc[task].append(p)\n",
    "            subs[task].append(sub)\n",
    "        except:\n",
    "            pass\n",
    "        \n",
    "for task in fc:\n",
    "    fc[task] = np.stack(fc[task])\n",
    "    print(len(fc[task]), len(subs[task]))"
   ]
  },
  {
   "cell_type": "code",
   "execution_count": 11,
   "id": "85a6b499",
   "metadata": {},
   "outputs": [
    {
     "name": "stdout",
     "output_type": "stream",
     "text": [
      "(66, 66)\n",
      "(66, 34716)\n",
      "(65, 65)\n",
      "(65, 34716)\n"
     ]
    }
   ],
   "source": [
    "from sklearn.decomposition import PCA\n",
    "\n",
    "for task in fc:\n",
    "    pca = PCA()\n",
    "    z = pca.fit_transform(fc[task])\n",
    "    print(z.shape)\n",
    "    print(pca.components_.shape)\n",
    "    for i in range(z.shape[0]):\n",
    "        np.save(f'{folder}/decomp/{task}pca-comps/{task}pca_comp-{i}.npy', pca.components_[i])\n",
    "        np.save(f'{folder}/decomp/{task}pca-weights/{subs[task][i]}_comp-{task}pca_weights.npy', z[i])"
   ]
  },
  {
   "cell_type": "code",
   "execution_count": null,
   "id": "332d9a31",
   "metadata": {},
   "outputs": [],
   "source": []
  }
 ],
 "metadata": {
  "kernelspec": {
   "display_name": "Python 3 (ipykernel)",
   "language": "python",
   "name": "python3"
  },
  "language_info": {
   "codemirror_mode": {
    "name": "ipython",
    "version": 3
   },
   "file_extension": ".py",
   "mimetype": "text/x-python",
   "name": "python",
   "nbconvert_exporter": "python",
   "pygments_lexer": "ipython3",
   "version": "3.11.3"
  }
 },
 "nbformat": 4,
 "nbformat_minor": 5
}
