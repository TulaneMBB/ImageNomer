{
 "cells": [
  {
   "cell_type": "code",
   "execution_count": 2,
   "id": "20c2fa71",
   "metadata": {},
   "outputs": [
    {
     "name": "stdout",
     "output_type": "stream",
     "text": [
      "Loaded\n",
      "Done\n"
     ]
    }
   ],
   "source": [
    "import pickle\n",
    "import numpy as np\n",
    "\n",
    "basedir = '../data/anton/cohorts/test/'\n",
    "snpdir = f'{basedir}/snps'\n",
    "fname = 'snps_age_927_big_correct.pkl'\n",
    "\n",
    "with open(f'{basedir}/{fname}', 'rb') as f:\n",
    "    data = pickle.load(f)\n",
    "    \n",
    "print('Loaded')\n",
    "\n",
    "for sub in data.keys():\n",
    "    fname = f'{snpdir}/{sub}_set-big_snps.npy'\n",
    "    np.save(fname, data[sub])\n",
    "    \n",
    "print('Done')"
   ]
  },
  {
   "cell_type": "code",
   "execution_count": null,
   "id": "87be98ec",
   "metadata": {},
   "outputs": [],
   "source": []
  }
 ],
 "metadata": {
  "kernelspec": {
   "display_name": "Python 3 (ipykernel)",
   "language": "python",
   "name": "python3"
  },
  "language_info": {
   "codemirror_mode": {
    "name": "ipython",
    "version": 3
   },
   "file_extension": ".py",
   "mimetype": "text/x-python",
   "name": "python",
   "nbconvert_exporter": "python",
   "pygments_lexer": "ipython3",
   "version": "3.10.8"
  }
 },
 "nbformat": 4,
 "nbformat_minor": 5
}
